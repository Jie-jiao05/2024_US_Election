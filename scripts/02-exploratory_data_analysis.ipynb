{
 "cells": [
  {
   "cell_type": "code",
   "outputs": [],
   "source": [
    "#### Preamble ####\n",
    "# Purpose: This script is used as a sandbox to review the data before clean the raw data and preparing it for analysis.\n",
    "# Author: Aman Rana, Shanjie Jiao, Kevin Shen\n",
    "# Date: 25 October 2024\n",
    "# Contact: aman.rana@mail.utoronto.ca\n",
    "# License: MIT\n",
    "# Pre-requisites: `pandas` must be installed (pip install pandas)\n",
    "# `Jupyter Notebook` must be installed (pip install jupyter)"
   ],
   "metadata": {
    "collapsed": false
   },
   "id": "712b8c5fbe10e7d2"
  },
  {
   "cell_type": "code",
   "outputs": [],
   "source": [
    "import numpy as np\n",
    "import pandas as pd\n",
    "import matplotlib.pyplot as plt"
   ],
   "metadata": {
    "collapsed": true,
    "ExecuteTime": {
     "end_time": "2024-11-04T19:44:38.283246Z",
     "start_time": "2024-11-04T19:44:38.280806Z"
    }
   },
   "id": "initial_id",
   "execution_count": 313
  },
  {
   "cell_type": "code",
   "outputs": [],
   "source": [
    "df = pd.read_csv('../data/01-raw_data/raw_data.csv')\n",
    "df = df[df['numeric_grade'] >= 3.0]\n",
    "df['pct'] = df['pct'] / 100"
   ],
   "metadata": {
    "collapsed": false,
    "ExecuteTime": {
     "end_time": "2024-11-04T19:44:38.394736Z",
     "start_time": "2024-11-04T19:44:38.292315Z"
    }
   },
   "id": "acb8f7532f70b515",
   "execution_count": 314
  },
  {
   "cell_type": "code",
   "outputs": [
    {
     "data": {
      "text/plain": "     poll_id  pollster_id pollster  sponsor_ids   sponsors display_name  \\\n128    88762          568   YouGov        133.0   CBS News       YouGov   \n129    88762          568   YouGov        133.0   CBS News       YouGov   \n146    88710          568   YouGov        352.0  Economist       YouGov   \n147    88710          568   YouGov        352.0  Economist       YouGov   \n148    88710          568   YouGov        352.0  Economist       YouGov   \n\n     pollster_rating_id pollster_rating_name  numeric_grade  pollscore  ...  \\\n128                 391               YouGov            3.0       -1.1  ...   \n129                 391               YouGov            3.0       -1.1  ...   \n146                 391               YouGov            3.0       -1.1  ...   \n147                 391               YouGov            3.0       -1.1  ...   \n148                 391               YouGov            3.0       -1.1  ...   \n\n       stage  nationwide_batch ranked_choice_reallocated ranked_choice_round  \\\n128  general             False                     False                 NaN   \n129  general             False                     False                 NaN   \n146  general             False                     False                 NaN   \n147  general             False                     False                 NaN   \n148  general             False                     False                 NaN   \n\n    hypothetical  party  answer candidate_id  candidate_name   pct  \n128        False    DEM  Harris        16661   Kamala Harris  0.48  \n129        False    REP   Trump        16651    Donald Trump  0.51  \n146        False    DEM  Harris        16661   Kamala Harris  0.48  \n147        False    REP   Trump        16651    Donald Trump  0.45  \n148        False    GRE   Stein        31116      Jill Stein  0.01  \n\n[5 rows x 52 columns]",
      "text/html": "<div>\n<style scoped>\n    .dataframe tbody tr th:only-of-type {\n        vertical-align: middle;\n    }\n\n    .dataframe tbody tr th {\n        vertical-align: top;\n    }\n\n    .dataframe thead th {\n        text-align: right;\n    }\n</style>\n<table border=\"1\" class=\"dataframe\">\n  <thead>\n    <tr style=\"text-align: right;\">\n      <th></th>\n      <th>poll_id</th>\n      <th>pollster_id</th>\n      <th>pollster</th>\n      <th>sponsor_ids</th>\n      <th>sponsors</th>\n      <th>display_name</th>\n      <th>pollster_rating_id</th>\n      <th>pollster_rating_name</th>\n      <th>numeric_grade</th>\n      <th>pollscore</th>\n      <th>...</th>\n      <th>stage</th>\n      <th>nationwide_batch</th>\n      <th>ranked_choice_reallocated</th>\n      <th>ranked_choice_round</th>\n      <th>hypothetical</th>\n      <th>party</th>\n      <th>answer</th>\n      <th>candidate_id</th>\n      <th>candidate_name</th>\n      <th>pct</th>\n    </tr>\n  </thead>\n  <tbody>\n    <tr>\n      <th>128</th>\n      <td>88762</td>\n      <td>568</td>\n      <td>YouGov</td>\n      <td>133.0</td>\n      <td>CBS News</td>\n      <td>YouGov</td>\n      <td>391</td>\n      <td>YouGov</td>\n      <td>3.0</td>\n      <td>-1.1</td>\n      <td>...</td>\n      <td>general</td>\n      <td>False</td>\n      <td>False</td>\n      <td>NaN</td>\n      <td>False</td>\n      <td>DEM</td>\n      <td>Harris</td>\n      <td>16661</td>\n      <td>Kamala Harris</td>\n      <td>0.48</td>\n    </tr>\n    <tr>\n      <th>129</th>\n      <td>88762</td>\n      <td>568</td>\n      <td>YouGov</td>\n      <td>133.0</td>\n      <td>CBS News</td>\n      <td>YouGov</td>\n      <td>391</td>\n      <td>YouGov</td>\n      <td>3.0</td>\n      <td>-1.1</td>\n      <td>...</td>\n      <td>general</td>\n      <td>False</td>\n      <td>False</td>\n      <td>NaN</td>\n      <td>False</td>\n      <td>REP</td>\n      <td>Trump</td>\n      <td>16651</td>\n      <td>Donald Trump</td>\n      <td>0.51</td>\n    </tr>\n    <tr>\n      <th>146</th>\n      <td>88710</td>\n      <td>568</td>\n      <td>YouGov</td>\n      <td>352.0</td>\n      <td>Economist</td>\n      <td>YouGov</td>\n      <td>391</td>\n      <td>YouGov</td>\n      <td>3.0</td>\n      <td>-1.1</td>\n      <td>...</td>\n      <td>general</td>\n      <td>False</td>\n      <td>False</td>\n      <td>NaN</td>\n      <td>False</td>\n      <td>DEM</td>\n      <td>Harris</td>\n      <td>16661</td>\n      <td>Kamala Harris</td>\n      <td>0.48</td>\n    </tr>\n    <tr>\n      <th>147</th>\n      <td>88710</td>\n      <td>568</td>\n      <td>YouGov</td>\n      <td>352.0</td>\n      <td>Economist</td>\n      <td>YouGov</td>\n      <td>391</td>\n      <td>YouGov</td>\n      <td>3.0</td>\n      <td>-1.1</td>\n      <td>...</td>\n      <td>general</td>\n      <td>False</td>\n      <td>False</td>\n      <td>NaN</td>\n      <td>False</td>\n      <td>REP</td>\n      <td>Trump</td>\n      <td>16651</td>\n      <td>Donald Trump</td>\n      <td>0.45</td>\n    </tr>\n    <tr>\n      <th>148</th>\n      <td>88710</td>\n      <td>568</td>\n      <td>YouGov</td>\n      <td>352.0</td>\n      <td>Economist</td>\n      <td>YouGov</td>\n      <td>391</td>\n      <td>YouGov</td>\n      <td>3.0</td>\n      <td>-1.1</td>\n      <td>...</td>\n      <td>general</td>\n      <td>False</td>\n      <td>False</td>\n      <td>NaN</td>\n      <td>False</td>\n      <td>GRE</td>\n      <td>Stein</td>\n      <td>31116</td>\n      <td>Jill Stein</td>\n      <td>0.01</td>\n    </tr>\n  </tbody>\n</table>\n<p>5 rows × 52 columns</p>\n</div>"
     },
     "execution_count": 315,
     "metadata": {},
     "output_type": "execute_result"
    }
   ],
   "source": [
    "df.head()"
   ],
   "metadata": {
    "collapsed": false,
    "ExecuteTime": {
     "end_time": "2024-11-04T19:44:38.406119Z",
     "start_time": "2024-11-04T19:44:38.396408Z"
    }
   },
   "id": "efd66cf23bf35a5e",
   "execution_count": 315
  },
  {
   "cell_type": "code",
   "outputs": [
    {
     "data": {
      "text/plain": "pollster\nYouGov                                      843\nSiena/NYT                                   674\nMarquette Law School                        278\nYouGov Blue                                  35\nABC/Washington Post                          18\nThe Washington Post                          14\nYouGov/Center for Working Class Politics      2\nMcCourtney Institute/YouGov                   2\nName: count, dtype: int64"
     },
     "execution_count": 316,
     "metadata": {},
     "output_type": "execute_result"
    }
   ],
   "source": [
    "df['pollster'].value_counts()"
   ],
   "metadata": {
    "collapsed": false,
    "ExecuteTime": {
     "end_time": "2024-11-04T19:44:38.411111Z",
     "start_time": "2024-11-04T19:44:38.407550Z"
    }
   },
   "id": "b274c7095b1b7473",
   "execution_count": 316
  },
  {
   "cell_type": "code",
   "outputs": [
    {
     "data": {
      "text/plain": "Index(['poll_id', 'pollster_id', 'pollster', 'sponsor_ids', 'sponsors',\n       'display_name', 'pollster_rating_id', 'pollster_rating_name',\n       'numeric_grade', 'pollscore', 'methodology', 'transparency_score',\n       'state', 'start_date', 'end_date', 'sponsor_candidate_id',\n       'sponsor_candidate', 'sponsor_candidate_party', 'endorsed_candidate_id',\n       'endorsed_candidate_name', 'endorsed_candidate_party', 'question_id',\n       'sample_size', 'population', 'subpopulation', 'population_full',\n       'tracking', 'created_at', 'notes', 'url', 'url_article', 'url_topline',\n       'url_crosstab', 'source', 'internal', 'partisan', 'race_id', 'cycle',\n       'office_type', 'seat_number', 'seat_name', 'election_date', 'stage',\n       'nationwide_batch', 'ranked_choice_reallocated', 'ranked_choice_round',\n       'hypothetical', 'party', 'answer', 'candidate_id', 'candidate_name',\n       'pct'],\n      dtype='object')"
     },
     "execution_count": 317,
     "metadata": {},
     "output_type": "execute_result"
    }
   ],
   "source": [
    "df.columns"
   ],
   "metadata": {
    "collapsed": false,
    "ExecuteTime": {
     "end_time": "2024-11-04T19:44:38.415164Z",
     "start_time": "2024-11-04T19:44:38.412521Z"
    }
   },
   "id": "c1771b58d967ad5a",
   "execution_count": 317
  },
  {
   "cell_type": "code",
   "outputs": [
    {
     "name": "stderr",
     "output_type": "stream",
     "text": [
      "/var/folders/jy/_2t8f9sx1hs8nmxchkp2wrhc0000gn/T/ipykernel_73768/2328444733.py:5: FutureWarning: A value is trying to be set on a copy of a DataFrame or Series through chained assignment using an inplace method.\n",
      "The behavior will change in pandas 3.0. This inplace method will never work because the intermediate object on which we are setting values always behaves as a copy.\n",
      "\n",
      "For example, when doing 'df[col].method(value, inplace=True)', try using 'df.method({col: value}, inplace=True)' or df[col] = df[col].method(value) instead, to perform the operation inplace on the original object.\n",
      "\n",
      "\n",
      "  df_lean['partisan'].fillna('Non-Partisan', inplace=True)\n",
      "/var/folders/jy/_2t8f9sx1hs8nmxchkp2wrhc0000gn/T/ipykernel_73768/2328444733.py:5: SettingWithCopyWarning: \n",
      "A value is trying to be set on a copy of a slice from a DataFrame\n",
      "\n",
      "See the caveats in the documentation: https://pandas.pydata.org/pandas-docs/stable/user_guide/indexing.html#returning-a-view-versus-a-copy\n",
      "  df_lean['partisan'].fillna('Non-Partisan', inplace=True)\n",
      "/var/folders/jy/_2t8f9sx1hs8nmxchkp2wrhc0000gn/T/ipykernel_73768/2328444733.py:6: UserWarning: Could not infer format, so each element will be parsed individually, falling back to `dateutil`. To ensure parsing is consistent and as-expected, please specify a format.\n",
      "  df_lean['start_date'] = pd.to_datetime(df_lean['start_date'])\n",
      "/var/folders/jy/_2t8f9sx1hs8nmxchkp2wrhc0000gn/T/ipykernel_73768/2328444733.py:6: SettingWithCopyWarning: \n",
      "A value is trying to be set on a copy of a slice from a DataFrame.\n",
      "Try using .loc[row_indexer,col_indexer] = value instead\n",
      "\n",
      "See the caveats in the documentation: https://pandas.pydata.org/pandas-docs/stable/user_guide/indexing.html#returning-a-view-versus-a-copy\n",
      "  df_lean['start_date'] = pd.to_datetime(df_lean['start_date'])\n",
      "/var/folders/jy/_2t8f9sx1hs8nmxchkp2wrhc0000gn/T/ipykernel_73768/2328444733.py:7: UserWarning: Could not infer format, so each element will be parsed individually, falling back to `dateutil`. To ensure parsing is consistent and as-expected, please specify a format.\n",
      "  df_lean['end_date'] = pd.to_datetime(df_lean['end_date'])\n",
      "/var/folders/jy/_2t8f9sx1hs8nmxchkp2wrhc0000gn/T/ipykernel_73768/2328444733.py:7: SettingWithCopyWarning: \n",
      "A value is trying to be set on a copy of a slice from a DataFrame.\n",
      "Try using .loc[row_indexer,col_indexer] = value instead\n",
      "\n",
      "See the caveats in the documentation: https://pandas.pydata.org/pandas-docs/stable/user_guide/indexing.html#returning-a-view-versus-a-copy\n",
      "  df_lean['end_date'] = pd.to_datetime(df_lean['end_date'])\n"
     ]
    },
    {
     "data": {
      "text/plain": "    pct    state start_date   end_date  pollscore      partisan  pollster_id  \\\n0  0.48  Arizona 2024-10-11 2024-10-16       -1.1  Non-Partisan          568   \n1  0.51  Arizona 2024-10-11 2024-10-16       -1.1  Non-Partisan          568   \n2  0.48      NaN 2024-10-12 2024-10-15       -1.1  Non-Partisan          568   \n3  0.45      NaN 2024-10-12 2024-10-15       -1.1  Non-Partisan          568   \n4  0.01      NaN 2024-10-12 2024-10-15       -1.1  Non-Partisan          568   \n\n  pollster party  sample_size  \n0   YouGov   DEM       1435.0  \n1   YouGov   REP       1435.0  \n2   YouGov   DEM       1457.0  \n3   YouGov   REP       1457.0  \n4   YouGov   GRE       1457.0  ",
      "text/html": "<div>\n<style scoped>\n    .dataframe tbody tr th:only-of-type {\n        vertical-align: middle;\n    }\n\n    .dataframe tbody tr th {\n        vertical-align: top;\n    }\n\n    .dataframe thead th {\n        text-align: right;\n    }\n</style>\n<table border=\"1\" class=\"dataframe\">\n  <thead>\n    <tr style=\"text-align: right;\">\n      <th></th>\n      <th>pct</th>\n      <th>state</th>\n      <th>start_date</th>\n      <th>end_date</th>\n      <th>pollscore</th>\n      <th>partisan</th>\n      <th>pollster_id</th>\n      <th>pollster</th>\n      <th>party</th>\n      <th>sample_size</th>\n    </tr>\n  </thead>\n  <tbody>\n    <tr>\n      <th>0</th>\n      <td>0.48</td>\n      <td>Arizona</td>\n      <td>2024-10-11</td>\n      <td>2024-10-16</td>\n      <td>-1.1</td>\n      <td>Non-Partisan</td>\n      <td>568</td>\n      <td>YouGov</td>\n      <td>DEM</td>\n      <td>1435.0</td>\n    </tr>\n    <tr>\n      <th>1</th>\n      <td>0.51</td>\n      <td>Arizona</td>\n      <td>2024-10-11</td>\n      <td>2024-10-16</td>\n      <td>-1.1</td>\n      <td>Non-Partisan</td>\n      <td>568</td>\n      <td>YouGov</td>\n      <td>REP</td>\n      <td>1435.0</td>\n    </tr>\n    <tr>\n      <th>2</th>\n      <td>0.48</td>\n      <td>NaN</td>\n      <td>2024-10-12</td>\n      <td>2024-10-15</td>\n      <td>-1.1</td>\n      <td>Non-Partisan</td>\n      <td>568</td>\n      <td>YouGov</td>\n      <td>DEM</td>\n      <td>1457.0</td>\n    </tr>\n    <tr>\n      <th>3</th>\n      <td>0.45</td>\n      <td>NaN</td>\n      <td>2024-10-12</td>\n      <td>2024-10-15</td>\n      <td>-1.1</td>\n      <td>Non-Partisan</td>\n      <td>568</td>\n      <td>YouGov</td>\n      <td>REP</td>\n      <td>1457.0</td>\n    </tr>\n    <tr>\n      <th>4</th>\n      <td>0.01</td>\n      <td>NaN</td>\n      <td>2024-10-12</td>\n      <td>2024-10-15</td>\n      <td>-1.1</td>\n      <td>Non-Partisan</td>\n      <td>568</td>\n      <td>YouGov</td>\n      <td>GRE</td>\n      <td>1457.0</td>\n    </tr>\n  </tbody>\n</table>\n</div>"
     },
     "execution_count": 318,
     "metadata": {},
     "output_type": "execute_result"
    }
   ],
   "source": [
    "#relevant columns: 'pct', 'state', 'created_at', 'poll_score', 'partisan', 'pollster_id', 'numeric_grade', \n",
    "# 'party'\n",
    "\n",
    "df_lean = df[['pct', 'state', 'start_date', 'end_date' , 'pollscore', 'partisan', 'pollster_id', 'pollster' ,'party', 'sample_size']]\n",
    "df_lean['partisan'].fillna('Non-Partisan', inplace=True)\n",
    "df_lean['start_date'] = pd.to_datetime(df_lean['start_date'])\n",
    "df_lean['end_date'] = pd.to_datetime(df_lean['end_date'])\n",
    "df_lean = df_lean[df_lean['start_date'] >= '2024-07-21'].reset_index(drop=True)\n",
    "df_lean.head()"
   ],
   "metadata": {
    "collapsed": false,
    "ExecuteTime": {
     "end_time": "2024-11-04T19:44:38.435093Z",
     "start_time": "2024-11-04T19:44:38.416061Z"
    }
   },
   "id": "e1bf7c02c24f13fe",
   "execution_count": 318
  },
  {
   "cell_type": "code",
   "outputs": [
    {
     "data": {
      "text/plain": "state\nWisconsin         102\nPennsylvania       66\nMichigan           46\nArizona            42\nNorth Carolina     38\nGeorgia            30\nTexas              22\nOhio               16\nNevada             16\nMontana            12\nFlorida            12\nNebraska CD-2      12\nMissouri            2\nName: count, dtype: int64"
     },
     "execution_count": 319,
     "metadata": {},
     "output_type": "execute_result"
    }
   ],
   "source": [
    "df_lean['state'].value_counts()\n",
    "#We notice Maine CD-1 and Maine CD-2 are separate states.\n",
    "#We notice Nebraska CD-1, Nebraska CD-2. \n",
    "#We retain these as separate states as they are characteristicaly different."
   ],
   "metadata": {
    "collapsed": false,
    "ExecuteTime": {
     "end_time": "2024-11-04T19:44:38.439344Z",
     "start_time": "2024-11-04T19:44:38.436038Z"
    }
   },
   "id": "8e2d46effbad1dec",
   "execution_count": 319
  },
  {
   "cell_type": "code",
   "outputs": [
    {
     "name": "stdout",
     "output_type": "stream",
     "text": [
      "pct            0.000000\n",
      "state          0.353033\n",
      "start_date     0.000000\n",
      "end_date       0.000000\n",
      "pollscore      0.000000\n",
      "partisan       0.000000\n",
      "pollster_id    0.000000\n",
      "pollster       0.000000\n",
      "party          0.000000\n",
      "sample_size    0.037325\n",
      "dtype: float64\n"
     ]
    }
   ],
   "source": [
    "print(df_lean.isna().sum() / len(df_lean))"
   ],
   "metadata": {
    "collapsed": false,
    "ExecuteTime": {
     "end_time": "2024-11-04T19:44:38.442913Z",
     "start_time": "2024-11-04T19:44:38.440062Z"
    }
   },
   "id": "5b497cce3123406a",
   "execution_count": 320
  },
  {
   "cell_type": "code",
   "outputs": [
    {
     "data": {
      "text/plain": "partisan\nNon-Partisan    637\nDEM               6\nName: count, dtype: int64"
     },
     "execution_count": 321,
     "metadata": {},
     "output_type": "execute_result"
    }
   ],
   "source": [
    "df_lean['partisan'].value_counts()\n",
    "#drop partisan polls."
   ],
   "metadata": {
    "collapsed": false,
    "ExecuteTime": {
     "end_time": "2024-11-04T19:44:38.446392Z",
     "start_time": "2024-11-04T19:44:38.443531Z"
    }
   },
   "id": "e6cc7e241ded5358",
   "execution_count": 321
  },
  {
   "cell_type": "code",
   "outputs": [],
   "source": [
    "df_lean = df_lean[df_lean['partisan'] == 'Non-Partisan'].reset_index(drop=True)"
   ],
   "metadata": {
    "collapsed": false,
    "ExecuteTime": {
     "end_time": "2024-11-04T19:44:38.449578Z",
     "start_time": "2024-11-04T19:44:38.447080Z"
    }
   },
   "id": "4337be1a969892a5",
   "execution_count": 322
  },
  {
   "cell_type": "code",
   "outputs": [
    {
     "data": {
      "text/plain": "pollscore\n-1.5    314\n-1.1    309\n-1.2     14\nName: count, dtype: int64"
     },
     "execution_count": 323,
     "metadata": {},
     "output_type": "execute_result"
    }
   ],
   "source": [
    "df_lean['pollscore'].value_counts()"
   ],
   "metadata": {
    "collapsed": false,
    "ExecuteTime": {
     "end_time": "2024-11-04T19:44:38.455014Z",
     "start_time": "2024-11-04T19:44:38.451687Z"
    }
   },
   "id": "bea2c7f046208c8b",
   "execution_count": 323
  },
  {
   "cell_type": "code",
   "outputs": [
    {
     "data": {
      "text/plain": "pollster_id\n1424    314\n568     217\n1075     88\n486      14\n1901      2\n1700      2\nName: count, dtype: int64"
     },
     "execution_count": 324,
     "metadata": {},
     "output_type": "execute_result"
    }
   ],
   "source": [
    "df_lean['pollster_id'].value_counts()"
   ],
   "metadata": {
    "collapsed": false,
    "ExecuteTime": {
     "end_time": "2024-11-04T19:44:38.458986Z",
     "start_time": "2024-11-04T19:44:38.455790Z"
    }
   },
   "id": "87a7eaace69de9ca",
   "execution_count": 324
  },
  {
   "cell_type": "code",
   "outputs": [],
   "source": [
    "#drop id 1492, 1704, 486, and 1700 for having very few polls.\n",
    "df_lean = df_lean[~df_lean['pollster_id'].isin([1492, 1704, 486, 1700, 1901])].reset_index(drop=True)"
   ],
   "metadata": {
    "collapsed": false,
    "ExecuteTime": {
     "end_time": "2024-11-04T19:44:38.462789Z",
     "start_time": "2024-11-04T19:44:38.459911Z"
    }
   },
   "id": "547ff4da259f3bcc",
   "execution_count": 325
  },
  {
   "cell_type": "code",
   "outputs": [
    {
     "data": {
      "text/plain": "              pct                     start_date  \\\ncount  619.000000                            619   \nmean     0.264782  2024-08-31 05:07:04.555735040   \nmin      0.000000            2024-07-21 00:00:00   \n25%      0.010000            2024-08-09 00:00:00   \n50%      0.420000            2024-09-01 00:00:00   \n75%      0.470000            2024-09-21 00:00:00   \nmax      0.570000            2024-10-12 00:00:00   \nstd      0.225898                            NaN   \n\n                            end_date   pollscore  pollster_id  sample_size  \ncount                            619  619.000000   619.000000   595.000000  \nmean   2024-09-04 21:21:48.562197248   -1.302908  1074.300485  1031.136134  \nmin              2024-07-23 00:00:00   -1.500000   568.000000   500.000000  \n25%              2024-08-14 00:00:00   -1.500000   568.000000   677.000000  \n50%              2024-09-05 00:00:00   -1.500000  1424.000000   798.000000  \n75%              2024-09-26 00:00:00   -1.100000  1424.000000  1195.500000  \nmax              2024-10-16 00:00:00   -1.100000  1424.000000  3385.000000  \nstd                              NaN    0.200141   390.056099   595.084212  ",
      "text/html": "<div>\n<style scoped>\n    .dataframe tbody tr th:only-of-type {\n        vertical-align: middle;\n    }\n\n    .dataframe tbody tr th {\n        vertical-align: top;\n    }\n\n    .dataframe thead th {\n        text-align: right;\n    }\n</style>\n<table border=\"1\" class=\"dataframe\">\n  <thead>\n    <tr style=\"text-align: right;\">\n      <th></th>\n      <th>pct</th>\n      <th>start_date</th>\n      <th>end_date</th>\n      <th>pollscore</th>\n      <th>pollster_id</th>\n      <th>sample_size</th>\n    </tr>\n  </thead>\n  <tbody>\n    <tr>\n      <th>count</th>\n      <td>619.000000</td>\n      <td>619</td>\n      <td>619</td>\n      <td>619.000000</td>\n      <td>619.000000</td>\n      <td>595.000000</td>\n    </tr>\n    <tr>\n      <th>mean</th>\n      <td>0.264782</td>\n      <td>2024-08-31 05:07:04.555735040</td>\n      <td>2024-09-04 21:21:48.562197248</td>\n      <td>-1.302908</td>\n      <td>1074.300485</td>\n      <td>1031.136134</td>\n    </tr>\n    <tr>\n      <th>min</th>\n      <td>0.000000</td>\n      <td>2024-07-21 00:00:00</td>\n      <td>2024-07-23 00:00:00</td>\n      <td>-1.500000</td>\n      <td>568.000000</td>\n      <td>500.000000</td>\n    </tr>\n    <tr>\n      <th>25%</th>\n      <td>0.010000</td>\n      <td>2024-08-09 00:00:00</td>\n      <td>2024-08-14 00:00:00</td>\n      <td>-1.500000</td>\n      <td>568.000000</td>\n      <td>677.000000</td>\n    </tr>\n    <tr>\n      <th>50%</th>\n      <td>0.420000</td>\n      <td>2024-09-01 00:00:00</td>\n      <td>2024-09-05 00:00:00</td>\n      <td>-1.500000</td>\n      <td>1424.000000</td>\n      <td>798.000000</td>\n    </tr>\n    <tr>\n      <th>75%</th>\n      <td>0.470000</td>\n      <td>2024-09-21 00:00:00</td>\n      <td>2024-09-26 00:00:00</td>\n      <td>-1.100000</td>\n      <td>1424.000000</td>\n      <td>1195.500000</td>\n    </tr>\n    <tr>\n      <th>max</th>\n      <td>0.570000</td>\n      <td>2024-10-12 00:00:00</td>\n      <td>2024-10-16 00:00:00</td>\n      <td>-1.100000</td>\n      <td>1424.000000</td>\n      <td>3385.000000</td>\n    </tr>\n    <tr>\n      <th>std</th>\n      <td>0.225898</td>\n      <td>NaN</td>\n      <td>NaN</td>\n      <td>0.200141</td>\n      <td>390.056099</td>\n      <td>595.084212</td>\n    </tr>\n  </tbody>\n</table>\n</div>"
     },
     "execution_count": 326,
     "metadata": {},
     "output_type": "execute_result"
    }
   ],
   "source": [
    "df_lean.describe()"
   ],
   "metadata": {
    "collapsed": false,
    "ExecuteTime": {
     "end_time": "2024-11-04T19:44:38.473593Z",
     "start_time": "2024-11-04T19:44:38.463539Z"
    }
   },
   "id": "8b945c7f78222fb0",
   "execution_count": 326
  },
  {
   "cell_type": "code",
   "outputs": [
    {
     "data": {
      "text/plain": "end_date\n2024-09-26    68\n2024-08-23    48\n2024-10-10    44\n2024-09-21    36\n2024-08-01    34\n2024-08-08    32\n2024-08-14    32\n2024-08-15    32\n2024-10-04    26\n2024-09-16    24\n2024-08-26    19\n2024-09-06    18\n2024-09-05    18\n2024-10-06    18\n2024-08-09    16\n2024-07-24    16\n2024-09-13    14\n2024-10-08    12\n2024-08-16    10\n2024-07-23    10\n2024-09-24    10\n2024-10-15     8\n2024-08-02     8\n2024-10-01     8\n2024-10-07     8\n2024-08-31     6\n2024-08-06     5\n2024-07-30     5\n2024-08-20     5\n2024-08-13     5\n2024-09-03     4\n2024-08-27     4\n2024-09-10     4\n2024-09-17     4\n2024-08-22     2\n2024-09-20     2\n2024-10-11     2\n2024-10-16     2\nName: count, dtype: int64"
     },
     "execution_count": 327,
     "metadata": {},
     "output_type": "execute_result"
    }
   ],
   "source": [
    "df_lean['end_date'].value_counts()"
   ],
   "metadata": {
    "collapsed": false,
    "ExecuteTime": {
     "end_time": "2024-11-04T19:44:38.477585Z",
     "start_time": "2024-11-04T19:44:38.474378Z"
    }
   },
   "id": "126a42fd33c63118",
   "execution_count": 327
  },
  {
   "cell_type": "code",
   "outputs": [
    {
     "data": {
      "text/plain": "['Arizona',\n nan,\n 'Pennsylvania',\n 'Texas',\n 'Montana',\n 'Florida',\n 'Nebraska CD-2',\n 'Michigan',\n 'Ohio',\n 'Wisconsin',\n 'Georgia',\n 'North Carolina',\n 'Missouri',\n 'Nevada']"
     },
     "execution_count": 329,
     "metadata": {},
     "output_type": "execute_result"
    }
   ],
   "source": [
    "list(df_lean['state'].unique())"
   ],
   "metadata": {
    "collapsed": false,
    "ExecuteTime": {
     "end_time": "2024-11-04T19:44:38.488645Z",
     "start_time": "2024-11-04T19:44:38.485921Z"
    }
   },
   "id": "ade92c42cfb4491e",
   "execution_count": 329
  }
 ],
 "metadata": {
  "kernelspec": {
   "display_name": "Python 3",
   "language": "python",
   "name": "python3"
  },
  "language_info": {
   "codemirror_mode": {
    "name": "ipython",
    "version": 2
   },
   "file_extension": ".py",
   "mimetype": "text/x-python",
   "name": "python",
   "nbconvert_exporter": "python",
   "pygments_lexer": "ipython2",
   "version": "2.7.6"
  }
 },
 "nbformat": 4,
 "nbformat_minor": 5
}
